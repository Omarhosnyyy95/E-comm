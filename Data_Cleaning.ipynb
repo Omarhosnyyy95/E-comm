{
 "cells": [
  {
   "cell_type": "code",
   "execution_count": 1,
   "metadata": {},
   "outputs": [],
   "source": [
    "import pandas as pd\n",
    "import numpy as np"
   ]
  },
  {
   "cell_type": "code",
   "execution_count": 2,
   "metadata": {},
   "outputs": [
    {
     "name": "stderr",
     "output_type": "stream",
     "text": [
      "c:\\users\\omar\\anaconda3\\envs\\virtual_workspace\\lib\\site-packages\\ipykernel_launcher.py:1: FutureWarning: Passing a negative integer is deprecated in version 1.0 and will not be supported in future version. Instead, use None to not limit the column width.\n",
      "  \"\"\"Entry point for launching an IPython kernel.\n"
     ]
    }
   ],
   "source": [
    "pd.set_option('display.max_colwidth', -1)"
   ]
  },
  {
   "cell_type": "markdown",
   "metadata": {},
   "source": [
    "## Epapoutsia"
   ]
  },
  {
   "cell_type": "code",
   "execution_count": 3,
   "metadata": {},
   "outputs": [
    {
     "data": {
      "text/plain": [
       "Geox              3488\n",
       "Gino_Rossi        2453\n",
       "Guess             2004\n",
       "Tommy_Hilfiger    1661\n",
       "Eva_Minge         1555\n",
       "                  ... \n",
       "Dolce_Pietro      1   \n",
       "Pabia             1   \n",
       "Brooks            1   \n",
       "Franco            1   \n",
       "Sioux             1   \n",
       "Name: brand, Length: 515, dtype: int64"
      ]
     },
     "execution_count": 3,
     "metadata": {},
     "output_type": "execute_result"
    }
   ],
   "source": [
    "epapoutsia = pd.read_csv('epapoutsia.csv')\n",
    "epapoutsia['brand'].value_counts()"
   ]
  },
  {
   "cell_type": "code",
   "execution_count": 4,
   "metadata": {},
   "outputs": [
    {
     "name": "stdout",
     "output_type": "stream",
     "text": [
      "<class 'pandas.core.frame.DataFrame'>\n",
      "RangeIndex: 75364 entries, 0 to 75363\n",
      "Data columns (total 11 columns):\n",
      " #   Column            Non-Null Count  Dtype \n",
      "---  ------            --------------  ----- \n",
      " 0   scraping_time     75364 non-null  object\n",
      " 1   website_id        75364 non-null  int64 \n",
      " 2   main_website_url  75364 non-null  object\n",
      " 3   product_link      75364 non-null  object\n",
      " 4   product_title     75364 non-null  object\n",
      " 5   old_price         60726 non-null  object\n",
      " 6   new_price         60726 non-null  object\n",
      " 7   price             14550 non-null  object\n",
      " 8   brand             75364 non-null  object\n",
      " 9   product_code      75364 non-null  object\n",
      " 10  images            75364 non-null  object\n",
      "dtypes: int64(1), object(10)\n",
      "memory usage: 6.3+ MB\n"
     ]
    }
   ],
   "source": [
    "epapoutsia.info()"
   ]
  },
  {
   "cell_type": "code",
   "execution_count": 5,
   "metadata": {},
   "outputs": [
    {
     "data": {
      "text/plain": [
       "74849"
      ]
     },
     "execution_count": 5,
     "metadata": {},
     "output_type": "execute_result"
    }
   ],
   "source": [
    "epapoutsia['brand'].duplicated().sum()"
   ]
  },
  {
   "cell_type": "code",
   "execution_count": 6,
   "metadata": {},
   "outputs": [
    {
     "name": "stdout",
     "output_type": "stream",
     "text": [
      "<class 'pandas.core.frame.DataFrame'>\n",
      "RangeIndex: 75364 entries, 0 to 75363\n",
      "Data columns (total 11 columns):\n",
      " #   Column            Non-Null Count  Dtype         \n",
      "---  ------            --------------  -----         \n",
      " 0   scraping_time     75364 non-null  datetime64[ns]\n",
      " 1   website_id        75364 non-null  int64         \n",
      " 2   main_website_url  75364 non-null  object        \n",
      " 3   product_link      75364 non-null  object        \n",
      " 4   product_title     75364 non-null  object        \n",
      " 5   old_price         60726 non-null  object        \n",
      " 6   new_price         60726 non-null  object        \n",
      " 7   price             14550 non-null  object        \n",
      " 8   brand             75364 non-null  object        \n",
      " 9   product_code      75364 non-null  object        \n",
      " 10  images            75364 non-null  object        \n",
      "dtypes: datetime64[ns](1), int64(1), object(9)\n",
      "memory usage: 6.3+ MB\n"
     ]
    }
   ],
   "source": [
    "epapoutsia['scraping_time'] = pd.to_datetime(epapoutsia['scraping_time'])\n",
    "epapoutsia.info()"
   ]
  },
  {
   "cell_type": "code",
   "execution_count": 7,
   "metadata": {},
   "outputs": [
    {
     "data": {
      "text/plain": [
       "array([   nan,  71.  ,  34.95, ...,  69.9 , 412.  ,  47.  ])"
      ]
     },
     "execution_count": 7,
     "metadata": {},
     "output_type": "execute_result"
    }
   ],
   "source": [
    "try:\n",
    "    epapoutsia['old_price'] = epapoutsia['old_price'].str.strip()\n",
    "    epapoutsia['old_price'] = epapoutsia['old_price'].str.strip('€')\n",
    "    epapoutsia['old_price'] = epapoutsia['old_price'].str.replace('.', '')\n",
    "    epapoutsia['old_price'] = epapoutsia['old_price'].str.replace(',', '.')\n",
    "    epapoutsia['old_price'] = epapoutsia['old_price'].astype(float)\n",
    "except:\n",
    "    pass\n",
    "# epapoutsia['old_price'] = epapoutsia['old_price'].str.strip()\n",
    "# epapoutsia['old_price'] = epapoutsia['old_price'].str.strip('€')\n",
    "\n",
    "\n",
    "# epapoutsia['old_price'] = epapoutsia['old_price'].astype(float)\n",
    "epapoutsia['old_price'].values"
   ]
  },
  {
   "cell_type": "code",
   "execution_count": 8,
   "metadata": {},
   "outputs": [
    {
     "data": {
      "text/plain": [
       "43.00     2708\n",
       "40.00     2516\n",
       "45.00     2420\n",
       "47.00     2409\n",
       "52.00     2286\n",
       "          ... \n",
       "438.00    1   \n",
       "76.95     1   \n",
       "142.00    1   \n",
       "136.00    1   \n",
       "488.00    1   \n",
       "Name: new_price, Length: 417, dtype: int64"
      ]
     },
     "execution_count": 8,
     "metadata": {},
     "output_type": "execute_result"
    }
   ],
   "source": [
    "try:\n",
    "    epapoutsia['new_price'] = epapoutsia['new_price'].str.strip()\n",
    "    epapoutsia['new_price'] = epapoutsia['new_price'].str.strip('€')\n",
    "    epapoutsia['new_price'] = epapoutsia['new_price'].str.replace('.', '')\n",
    "    epapoutsia['new_price'] = epapoutsia['new_price'].str.replace(',', '.')\n",
    "    epapoutsia['new_price'] = epapoutsia['new_price'].astype(float)\n",
    "except:\n",
    "    pass\n",
    "# epapoutsia['old_price'] = epapoutsia['old_price'].str.strip()\n",
    "# epapoutsia['old_price'] = epapoutsia['old_price'].str.strip('€')\n",
    "\n",
    "\n",
    "# epapoutsia[epapoutsia['new_price'] == 1021.00]\n",
    "# epapoutsia['old_price'] = epapoutsia['old_price'].astype(float)\n",
    "epapoutsia['new_price'].value_counts()"
   ]
  },
  {
   "cell_type": "code",
   "execution_count": 9,
   "metadata": {},
   "outputs": [
    {
     "data": {
      "text/plain": [
       "24.95     702\n",
       "29.95     526\n",
       "34.95     497\n",
       "71.00     347\n",
       "83.00     341\n",
       "         ... \n",
       "324.00    1  \n",
       "481.00    1  \n",
       "84.90     1  \n",
       "685.00    1  \n",
       "485.00    1  \n",
       "Name: price, Length: 359, dtype: int64"
      ]
     },
     "execution_count": 9,
     "metadata": {},
     "output_type": "execute_result"
    }
   ],
   "source": [
    "try:\n",
    "    epapoutsia['price'] = epapoutsia['price'].str.strip()\n",
    "    epapoutsia['price'] = epapoutsia['price'].str.strip('€')\n",
    "    epapoutsia['price'] = epapoutsia['price'].str.replace('.', '')\n",
    "    epapoutsia['price'] = epapoutsia['price'].str.replace(',', '.')\n",
    "    epapoutsia['price'] = epapoutsia['price'].astype(float)\n",
    "except:\n",
    "    pass\n",
    "# epapoutsia['old_price'] = epapoutsia['old_price'].str.strip()\n",
    "# epapoutsia['old_price'] = epapoutsia['old_price'].str.strip('€')\n",
    "\n",
    "\n",
    "# epapoutsia[epapoutsia['price'] == 1021.00]\n",
    "# epapoutsia['old_price'] = epapoutsia['old_price'].astype(float)\n",
    "epapoutsia['price'].value_counts()"
   ]
  },
  {
   "cell_type": "code",
   "execution_count": 10,
   "metadata": {},
   "outputs": [
    {
     "data": {
      "text/plain": [
       "20616    //www.epapoutsia.gr/media/catalog/product/cache/image/650x650/0/0/0000207509115_01_rz.jpg\n",
       "Name: images, dtype: object"
      ]
     },
     "execution_count": 10,
     "metadata": {},
     "output_type": "execute_result"
    }
   ],
   "source": [
    "epapoutsia['images'].sample()"
   ]
  },
  {
   "cell_type": "code",
   "execution_count": 11,
   "metadata": {},
   "outputs": [
    {
     "data": {
      "text/plain": [
       "13742    https://www.epapoutsia.gr/media/catalog/product/cache/image/650x650/0/0/0000200784014_07_mt.jpg\n",
       "Name: images, dtype: object"
      ]
     },
     "execution_count": 11,
     "metadata": {},
     "output_type": "execute_result"
    }
   ],
   "source": [
    "def concat_string(x):\n",
    "    return \"https:\" + x\n",
    "epapoutsia['images'] = epapoutsia['images'].apply(concat_string)\n",
    "epapoutsia['images'].sample()\n"
   ]
  },
  {
   "cell_type": "code",
   "execution_count": 12,
   "metadata": {},
   "outputs": [
    {
     "data": {
      "text/plain": [
       "36316    D Jaysen A D021BA 022BC C6738 Lt Taupe\n",
       "Name: product_code, dtype: object"
      ]
     },
     "execution_count": 12,
     "metadata": {},
     "output_type": "execute_result"
    }
   ],
   "source": [
    "epapoutsia['product_code'] = epapoutsia['product_code'].str.strip()\n",
    "epapoutsia['product_code'].sample()"
   ]
  },
  {
   "cell_type": "code",
   "execution_count": 13,
   "metadata": {},
   "outputs": [],
   "source": [
    "epapoutsia.to_csv('epapoutsia_mod.csv', index=False)"
   ]
  },
  {
   "cell_type": "markdown",
   "metadata": {},
   "source": [
    "## Myshoe"
   ]
  },
  {
   "cell_type": "code",
   "execution_count": 47,
   "metadata": {},
   "outputs": [
    {
     "data": {
      "text/plain": [
       "Index(['scraping_time', 'website_id', 'main_website_url', 'product_link',\n",
       "       'product_title', 'old_price', 'new_price', 'price', 'brand',\n",
       "       'product_code', 'images'],\n",
       "      dtype='object')"
      ]
     },
     "execution_count": 47,
     "metadata": {},
     "output_type": "execute_result"
    }
   ],
   "source": [
    "myshoe = pd.read_csv('myshoe.csv')\n",
    "myshoe.columns"
   ]
  },
  {
   "cell_type": "code",
   "execution_count": 48,
   "metadata": {},
   "outputs": [
    {
     "data": {
      "text/plain": [
       "757    https://www.myshoe.gr/gynaikeia/galotses/buffalo-17032-3-_p-892090.aspx?Org=892064\n",
       "758    https://www.myshoe.gr/gynaikeia/galotses/buffalo-17032-3-_p-892067.aspx?Org=892064\n",
       "759    https://www.myshoe.gr/gynaikeia/galotses/buffalo-17032-3-_p-892086.aspx?Org=892064\n",
       "768    https://www.myshoe.gr/gynaikeia/galotses/buffalo-17032-3-_p-892096.aspx?Org=892064\n",
       "796    https://www.myshoe.gr/gynaikeia/galotses/buffalo-17032-3-_p-892077.aspx?Org=892064\n",
       "Name: product_link, dtype: object"
      ]
     },
     "execution_count": 48,
     "metadata": {},
     "output_type": "execute_result"
    }
   ],
   "source": [
    "myshoe[myshoe['product_code'] == 'Buffalo 17032-3 .']['product_link']"
   ]
  },
  {
   "cell_type": "code",
   "execution_count": 49,
   "metadata": {},
   "outputs": [
    {
     "name": "stdout",
     "output_type": "stream",
     "text": [
      "<class 'pandas.core.frame.DataFrame'>\n",
      "RangeIndex: 11133 entries, 0 to 11132\n",
      "Data columns (total 11 columns):\n",
      " #   Column            Non-Null Count  Dtype \n",
      "---  ------            --------------  ----- \n",
      " 0   scraping_time     11133 non-null  object\n",
      " 1   website_id        11133 non-null  int64 \n",
      " 2   main_website_url  11133 non-null  object\n",
      " 3   product_link      11133 non-null  object\n",
      " 4   product_title     11133 non-null  object\n",
      " 5   old_price         9958 non-null   object\n",
      " 6   new_price         11133 non-null  object\n",
      " 7   price             11133 non-null  object\n",
      " 8   brand             11132 non-null  object\n",
      " 9   product_code      11133 non-null  object\n",
      " 10  images            11133 non-null  object\n",
      "dtypes: int64(1), object(10)\n",
      "memory usage: 956.9+ KB\n"
     ]
    }
   ],
   "source": [
    "myshoe.info()"
   ]
  },
  {
   "cell_type": "code",
   "execution_count": 50,
   "metadata": {},
   "outputs": [
    {
     "name": "stdout",
     "output_type": "stream",
     "text": [
      "<class 'pandas.core.frame.DataFrame'>\n",
      "RangeIndex: 11133 entries, 0 to 11132\n",
      "Data columns (total 11 columns):\n",
      " #   Column            Non-Null Count  Dtype         \n",
      "---  ------            --------------  -----         \n",
      " 0   scraping_time     11133 non-null  datetime64[ns]\n",
      " 1   website_id        11133 non-null  int64         \n",
      " 2   main_website_url  11133 non-null  object        \n",
      " 3   product_link      11133 non-null  object        \n",
      " 4   product_title     11133 non-null  object        \n",
      " 5   old_price         9958 non-null   object        \n",
      " 6   new_price         11133 non-null  object        \n",
      " 7   price             11133 non-null  object        \n",
      " 8   brand             11132 non-null  object        \n",
      " 9   product_code      11133 non-null  object        \n",
      " 10  images            11133 non-null  object        \n",
      "dtypes: datetime64[ns](1), int64(1), object(9)\n",
      "memory usage: 956.9+ KB\n"
     ]
    }
   ],
   "source": [
    "myshoe['scraping_time'] = pd.to_datetime(myshoe['scraping_time'])\n",
    "myshoe.info()"
   ]
  },
  {
   "cell_type": "code",
   "execution_count": 51,
   "metadata": {},
   "outputs": [
    {
     "data": {
      "text/plain": [
       "array([ 22.99,  16.99, 144.9 , ..., 199.  ,  58.  ,  23.  ])"
      ]
     },
     "execution_count": 51,
     "metadata": {},
     "output_type": "execute_result"
    }
   ],
   "source": [
    "try:\n",
    "    myshoe['old_price'] = myshoe['old_price'].str.strip('€')\n",
    "    myshoe['old_price'] = myshoe['old_price'].astype(float)\n",
    "except:\n",
    "    pass\n",
    "myshoe['old_price'].values"
   ]
  },
  {
   "cell_type": "code",
   "execution_count": 52,
   "metadata": {},
   "outputs": [
    {
     "data": {
      "text/plain": [
       "array([ 18.4,  13.6, 130.4, ..., 151.9,  34.2,  13.5])"
      ]
     },
     "execution_count": 52,
     "metadata": {},
     "output_type": "execute_result"
    }
   ],
   "source": [
    "try:\n",
    "    myshoe['new_price'] = myshoe['new_price'].str.replace(u'\\xa0', u'')\n",
    "    myshoe['new_price'] = myshoe['new_price'].str.strip('€')\n",
    "    myshoe['new_price'] = myshoe['new_price'].str.strip()\n",
    "    # myshoe['new_price'].str.replace(r'', np.NaN)\n",
    "    myshoe['new_price'] = myshoe['new_price'].replace(r'^\\s*$', np.nan, regex=True)\n",
    "    myshoe['new_price'] = myshoe['new_price'].astype(float)\n",
    "except:\n",
    "    pass\n",
    "myshoe['new_price'].values"
   ]
  },
  {
   "cell_type": "code",
   "execution_count": 53,
   "metadata": {},
   "outputs": [],
   "source": [
    "try:\n",
    "    myshoe['price'] = myshoe['price'].str.replace(u'\\xa0', u'')\n",
    "    myshoe['price'] = myshoe['price'].str.strip('€')\n",
    "    myshoe['price'] = myshoe['price'].str.strip()\n",
    "    # myshoe['new_price'].str.replace(r'', np.NaN)\n",
    "    myshoe['price'] = myshoe['price'].replace(r'^\\s*$', np.nan, regex=True)\n",
    "    myshoe['price'] = myshoe['price'].astype(float)\n",
    "except:\n",
    "    pass"
   ]
  },
  {
   "cell_type": "code",
   "execution_count": 54,
   "metadata": {},
   "outputs": [
    {
     "data": {
      "text/plain": [
       "array(['https://www.myshoe.gr/Images/Products/Normal/2700000/2700235.jpg',\n",
       "       'https://www.myshoe.gr/Images/Products/Normal/2700000/2700229.jpg',\n",
       "       'https://www.myshoe.gr/Images/Products/Normal/2670000/2673037.jpg',\n",
       "       ...,\n",
       "       'https://www.myshoe.gr/Images/Products/Normal/2110000/2117345.jpg',\n",
       "       'https://www.myshoe.gr/Images/Products/Normal/2670000/2678226.jpg',\n",
       "       'https://www.myshoe.gr/Images/Products/Normal/2690000/2691466.jpg'],\n",
       "      dtype=object)"
      ]
     },
     "execution_count": 54,
     "metadata": {},
     "output_type": "execute_result"
    }
   ],
   "source": [
    "def concat_string(x):\n",
    "    return \"https://www.myshoe.gr\" + x\n",
    "myshoe['images'] = myshoe['images'].apply(concat_string)\n",
    "myshoe['images'].values"
   ]
  },
  {
   "cell_type": "code",
   "execution_count": 55,
   "metadata": {},
   "outputs": [
    {
     "data": {
      "text/plain": [
       "0        https://www.myshoe.gr/Images/Products/Normal/2700000/2700235.jpg\n",
       "1        https://www.myshoe.gr/Images/Products/Normal/2700000/2700229.jpg\n",
       "2        https://www.myshoe.gr/Images/Products/Normal/2670000/2673037.jpg\n",
       "3        https://www.myshoe.gr/Images/Products/Normal/2680000/2682719.jpg\n",
       "4        https://www.myshoe.gr/Images/Products/Normal/2690000/2699174.jpg\n",
       "                                       ...                               \n",
       "11128    https://www.myshoe.gr/Images/Products/Normal/2670000/2678214.jpg\n",
       "11129    https://www.myshoe.gr/Images/Products/Normal/2670000/2678282.jpg\n",
       "11130    https://www.myshoe.gr/Images/Products/Normal/2110000/2117345.jpg\n",
       "11131    https://www.myshoe.gr/Images/Products/Normal/2670000/2678226.jpg\n",
       "11132    https://www.myshoe.gr/Images/Products/Normal/2690000/2691466.jpg\n",
       "Name: images, Length: 11133, dtype: object"
      ]
     },
     "execution_count": 55,
     "metadata": {},
     "output_type": "execute_result"
    }
   ],
   "source": [
    "myshoe['images']"
   ]
  },
  {
   "cell_type": "code",
   "execution_count": 56,
   "metadata": {},
   "outputs": [
    {
     "name": "stdout",
     "output_type": "stream",
     "text": [
      "<class 'pandas.core.frame.DataFrame'>\n",
      "RangeIndex: 11133 entries, 0 to 11132\n",
      "Data columns (total 11 columns):\n",
      " #   Column            Non-Null Count  Dtype         \n",
      "---  ------            --------------  -----         \n",
      " 0   scraping_time     11133 non-null  datetime64[ns]\n",
      " 1   website_id        11133 non-null  int64         \n",
      " 2   main_website_url  11133 non-null  object        \n",
      " 3   product_link      11133 non-null  object        \n",
      " 4   product_title     11133 non-null  object        \n",
      " 5   old_price         9958 non-null   float64       \n",
      " 6   new_price         11113 non-null  float64       \n",
      " 7   price             11113 non-null  float64       \n",
      " 8   brand             11132 non-null  object        \n",
      " 9   product_code      11133 non-null  object        \n",
      " 10  images            11133 non-null  object        \n",
      "dtypes: datetime64[ns](1), float64(3), int64(1), object(6)\n",
      "memory usage: 956.9+ KB\n"
     ]
    }
   ],
   "source": [
    "myshoe.info()"
   ]
  },
  {
   "cell_type": "code",
   "execution_count": 57,
   "metadata": {},
   "outputs": [],
   "source": [
    "myshoe.to_csv('myshoe_mod.csv', index=False)"
   ]
  },
  {
   "cell_type": "markdown",
   "metadata": {},
   "source": [
    "## Sakellaris"
   ]
  },
  {
   "cell_type": "code",
   "execution_count": 14,
   "metadata": {},
   "outputs": [
    {
     "name": "stdout",
     "output_type": "stream",
     "text": [
      "<class 'pandas.core.frame.DataFrame'>\n",
      "RangeIndex: 2776 entries, 0 to 2775\n",
      "Data columns (total 11 columns):\n",
      " #   Column            Non-Null Count  Dtype \n",
      "---  ------            --------------  ----- \n",
      " 0   scraping_time     2776 non-null   object\n",
      " 1   website_id        2776 non-null   int64 \n",
      " 2   main_website_url  2776 non-null   object\n",
      " 3   product_link      2776 non-null   object\n",
      " 4   product_title     2776 non-null   object\n",
      " 5   old_price         2459 non-null   object\n",
      " 6   new_price         2776 non-null   object\n",
      " 7   price             2776 non-null   object\n",
      " 8   brand             2776 non-null   object\n",
      " 9   product_code      2776 non-null   object\n",
      " 10  images            2776 non-null   object\n",
      "dtypes: int64(1), object(10)\n",
      "memory usage: 238.7+ KB\n"
     ]
    }
   ],
   "source": [
    "sakellaris = pd.read_csv('sakellaris.csv')\n",
    "sakellaris['website_id'] = sakellaris['website_id'].replace(249, 250)\n",
    "sakellaris.info()"
   ]
  },
  {
   "cell_type": "code",
   "execution_count": 15,
   "metadata": {},
   "outputs": [
    {
     "name": "stdout",
     "output_type": "stream",
     "text": [
      "<class 'pandas.core.frame.DataFrame'>\n",
      "RangeIndex: 2776 entries, 0 to 2775\n",
      "Data columns (total 11 columns):\n",
      " #   Column            Non-Null Count  Dtype         \n",
      "---  ------            --------------  -----         \n",
      " 0   scraping_time     2776 non-null   datetime64[ns]\n",
      " 1   website_id        2776 non-null   int64         \n",
      " 2   main_website_url  2776 non-null   object        \n",
      " 3   product_link      2776 non-null   object        \n",
      " 4   product_title     2776 non-null   object        \n",
      " 5   old_price         2459 non-null   object        \n",
      " 6   new_price         2776 non-null   object        \n",
      " 7   price             2776 non-null   object        \n",
      " 8   brand             2776 non-null   object        \n",
      " 9   product_code      2776 non-null   object        \n",
      " 10  images            2776 non-null   object        \n",
      "dtypes: datetime64[ns](1), int64(1), object(9)\n",
      "memory usage: 238.7+ KB\n"
     ]
    }
   ],
   "source": [
    "sakellaris['scraping_time'] = pd.to_datetime(sakellaris['scraping_time'])\n",
    "sakellaris.info()"
   ]
  },
  {
   "cell_type": "code",
   "execution_count": 16,
   "metadata": {},
   "outputs": [
    {
     "data": {
      "text/plain": [
       "array([50., 75., 75., ..., 99., nan, nan])"
      ]
     },
     "execution_count": 16,
     "metadata": {},
     "output_type": "execute_result"
    }
   ],
   "source": [
    "try:\n",
    "    sakellaris['old_price'] = sakellaris['old_price'].str.strip('€')\n",
    "    sakellaris['old_price'] = sakellaris['old_price'].str.strip('\\xa0')\n",
    "    sakellaris['old_price'] = sakellaris['old_price'].str.replace(',', '.')\n",
    "    sakellaris['old_price'] = sakellaris['old_price'].astype(float)\n",
    "except AttributeError:\n",
    "    pass\n",
    "sakellaris['old_price'].values"
   ]
  },
  {
   "cell_type": "code",
   "execution_count": 17,
   "metadata": {},
   "outputs": [
    {
     "data": {
      "text/plain": [
       "99.0     428\n",
       "59.0     333\n",
       "89.0     317\n",
       "69.0     243\n",
       "79.0     150\n",
       "        ... \n",
       "9.0      1  \n",
       "250.0    1  \n",
       "145.0    1  \n",
       "229.0    1  \n",
       "139.0    1  \n",
       "Name: new_price, Length: 62, dtype: int64"
      ]
     },
     "execution_count": 17,
     "metadata": {},
     "output_type": "execute_result"
    }
   ],
   "source": [
    "try:\n",
    "    sakellaris['new_price'] = sakellaris['new_price'].str.strip('€')\n",
    "    sakellaris['new_price'] = sakellaris['new_price'].str.strip('\\xa0')\n",
    "    sakellaris['new_price'] = sakellaris['new_price'].str.replace(',', '.')\n",
    "    sakellaris['new_price'] = sakellaris['new_price'].astype(float)\n",
    "except:\n",
    "    pass\n",
    "sakellaris['new_price'].value_counts()"
   ]
  },
  {
   "cell_type": "code",
   "execution_count": 18,
   "metadata": {},
   "outputs": [
    {
     "data": {
      "text/plain": [
       "99.0     428\n",
       "59.0     333\n",
       "89.0     317\n",
       "69.0     243\n",
       "79.0     150\n",
       "        ... \n",
       "9.0      1  \n",
       "250.0    1  \n",
       "145.0    1  \n",
       "229.0    1  \n",
       "139.0    1  \n",
       "Name: price, Length: 62, dtype: int64"
      ]
     },
     "execution_count": 18,
     "metadata": {},
     "output_type": "execute_result"
    }
   ],
   "source": [
    "try:\n",
    "    sakellaris['price'] = sakellaris['price'].str.strip('€')\n",
    "    sakellaris['price'] = sakellaris['price'].str.strip('\\xa0')\n",
    "    sakellaris['price'] = sakellaris['price'].str.replace(',', '.')\n",
    "    sakellaris['price'] = sakellaris['price'].astype(float)\n",
    "except:\n",
    "    pass\n",
    "sakellaris['price'].value_counts()"
   ]
  },
  {
   "cell_type": "code",
   "execution_count": 19,
   "metadata": {},
   "outputs": [],
   "source": [
    "sakellaris.to_csv('sakellaris_mod.csv', index=False)"
   ]
  },
  {
   "cell_type": "markdown",
   "metadata": {},
   "source": [
    "## Mortoglou"
   ]
  },
  {
   "cell_type": "code",
   "execution_count": 27,
   "metadata": {},
   "outputs": [
    {
     "name": "stdout",
     "output_type": "stream",
     "text": [
      "<class 'pandas.core.frame.DataFrame'>\n",
      "RangeIndex: 3631 entries, 0 to 3630\n",
      "Data columns (total 11 columns):\n",
      " #   Column            Non-Null Count  Dtype \n",
      "---  ------            --------------  ----- \n",
      " 0   scraping_time     3631 non-null   object\n",
      " 1   website_id        3631 non-null   int64 \n",
      " 2   main_website_url  3631 non-null   object\n",
      " 3   product_link      3631 non-null   object\n",
      " 4   product_title     3631 non-null   object\n",
      " 5   old_price         3595 non-null   object\n",
      " 6   new_price         3595 non-null   object\n",
      " 7   price             36 non-null     object\n",
      " 8   brand             3631 non-null   object\n",
      " 9   product_code      3631 non-null   object\n",
      " 10  images            3631 non-null   object\n",
      "dtypes: int64(1), object(10)\n",
      "memory usage: 312.2+ KB\n"
     ]
    }
   ],
   "source": [
    "mortoglou = pd.read_csv('mortoglou.csv')\n",
    "mortoglou.info()"
   ]
  },
  {
   "cell_type": "code",
   "execution_count": 28,
   "metadata": {},
   "outputs": [
    {
     "name": "stdout",
     "output_type": "stream",
     "text": [
      "<class 'pandas.core.frame.DataFrame'>\n",
      "RangeIndex: 3631 entries, 0 to 3630\n",
      "Data columns (total 11 columns):\n",
      " #   Column            Non-Null Count  Dtype         \n",
      "---  ------            --------------  -----         \n",
      " 0   scraping_time     3631 non-null   datetime64[ns]\n",
      " 1   website_id        3631 non-null   int64         \n",
      " 2   main_website_url  3631 non-null   object        \n",
      " 3   product_link      3631 non-null   object        \n",
      " 4   product_title     3631 non-null   object        \n",
      " 5   old_price         3595 non-null   object        \n",
      " 6   new_price         3595 non-null   object        \n",
      " 7   price             36 non-null     object        \n",
      " 8   brand             3631 non-null   object        \n",
      " 9   product_code      3631 non-null   object        \n",
      " 10  images            3631 non-null   object        \n",
      "dtypes: datetime64[ns](1), int64(1), object(9)\n",
      "memory usage: 312.2+ KB\n"
     ]
    }
   ],
   "source": [
    "mortoglou['scraping_time'] = pd.to_datetime(mortoglou['scraping_time'])\n",
    "mortoglou.info()"
   ]
  },
  {
   "cell_type": "code",
   "execution_count": 29,
   "metadata": {},
   "outputs": [
    {
     "data": {
      "text/plain": [
       "99.00     231\n",
       "119.00    147\n",
       "89.00     141\n",
       "69.00     121\n",
       "109.00    116\n",
       "         ... \n",
       "62.95     1  \n",
       "131.00    1  \n",
       "289.90    1  \n",
       "21.90     1  \n",
       "67.95     1  \n",
       "Name: old_price, Length: 212, dtype: int64"
      ]
     },
     "execution_count": 29,
     "metadata": {},
     "output_type": "execute_result"
    }
   ],
   "source": [
    "try:\n",
    "    mortoglou['old_price'] = mortoglou['old_price'].str.strip('€')\n",
    "    mortoglou['old_price'] = mortoglou['old_price'].str.replace(',', '.')\n",
    "    mortoglou['old_price'] = mortoglou['old_price'].astype(float)\n",
    "except AttributeError:\n",
    "    pass\n",
    "mortoglou['old_price'].value_counts()"
   ]
  },
  {
   "cell_type": "code",
   "execution_count": 30,
   "metadata": {},
   "outputs": [
    {
     "data": {
      "text/plain": [
       "90,00€     6\n",
       "100,00€    3\n",
       "45,00€     3\n",
       "35,00€     3\n",
       "59,00€     2\n",
       "85,00€     2\n",
       "80,00€     2\n",
       "139,00€    2\n",
       "125,00€    1\n",
       "119,00€    1\n",
       "99,90€     1\n",
       "160,00€    1\n",
       "175,00€    1\n",
       "159,00€    1\n",
       "149,00€    1\n",
       "89,00€     1\n",
       "195,00€    1\n",
       "20,00€     1\n",
       "75,00€     1\n",
       "30,00€     1\n",
       "49,00€     1\n",
       "Name: price, dtype: int64"
      ]
     },
     "execution_count": 30,
     "metadata": {},
     "output_type": "execute_result"
    }
   ],
   "source": [
    "mortoglou['price'].value_counts()"
   ]
  },
  {
   "cell_type": "code",
   "execution_count": 31,
   "metadata": {},
   "outputs": [
    {
     "data": {
      "text/plain": [
       "79.0     156\n",
       "49.0     150\n",
       "44.0     94 \n",
       "59.0     89 \n",
       "39.0     89 \n",
       "         .. \n",
       "189.0    1  \n",
       "62.3     1  \n",
       "245.0    1  \n",
       "153.0    1  \n",
       "207.0    1  \n",
       "Name: new_price, Length: 194, dtype: int64"
      ]
     },
     "execution_count": 31,
     "metadata": {},
     "output_type": "execute_result"
    }
   ],
   "source": [
    "try:\n",
    "    mortoglou['new_price'] = mortoglou['new_price'].str.strip('€')\n",
    "    mortoglou['new_price'] = mortoglou['new_price'].str.replace(',', '.')\n",
    "    mortoglou['new_price'] = mortoglou['new_price'].astype(float)\n",
    "except:\n",
    "    pass\n",
    "mortoglou['new_price'].value_counts()"
   ]
  },
  {
   "cell_type": "code",
   "execution_count": 32,
   "metadata": {},
   "outputs": [
    {
     "data": {
      "text/plain": [
       "90.0     6\n",
       "100.0    3\n",
       "45.0     3\n",
       "35.0     3\n",
       "59.0     2\n",
       "139.0    2\n",
       "80.0     2\n",
       "85.0     2\n",
       "195.0    1\n",
       "20.0     1\n",
       "30.0     1\n",
       "160.0    1\n",
       "49.0     1\n",
       "175.0    1\n",
       "119.0    1\n",
       "125.0    1\n",
       "89.0     1\n",
       "149.0    1\n",
       "75.0     1\n",
       "159.0    1\n",
       "99.9     1\n",
       "Name: price, dtype: int64"
      ]
     },
     "execution_count": 32,
     "metadata": {},
     "output_type": "execute_result"
    }
   ],
   "source": [
    "try:\n",
    "    mortoglou['price'] = mortoglou['price'].str.strip('€')\n",
    "    mortoglou['price'] = mortoglou['price'].str.replace(',', '.')\n",
    "    mortoglou['price'] = mortoglou['price'].astype(float)\n",
    "except:\n",
    "    pass\n",
    "mortoglou['price'].value_counts()"
   ]
  },
  {
   "cell_type": "code",
   "execution_count": 33,
   "metadata": {},
   "outputs": [
    {
     "data": {
      "text/plain": [
       "array(['https://www.mortoglou.gr/image/cache/products-new/images/2020-Winter/125-24HRS/125-24657~11-01-24_1-800x1100w.jpg',\n",
       "       'https://www.mortoglou.gr/image/cache/products-new/images/2020-Winter/359-SixtySeven/359-30301~11-02-24_1-800x1100w.jpg',\n",
       "       'https://www.mortoglou.gr/image/cache/products-new/images/2020-Winter/115-Alpe/115-4396~11-02-24_1-800x1100w.jpg',\n",
       "       ...,\n",
       "       'https://www.mortoglou.gr/image/cache/products-new/images/2020-Winter/104-MF/104-2042.2601N.CR~15-01-24_1-800x1100w.jpg',\n",
       "       'https://www.mortoglou.gr/image/cache/products-new/images/2020-Winter/105-Tamaris/105-25620~11-06-24_1-800x1100w.jpg',\n",
       "       'https://www.mortoglou.gr/image/cache/products-new/images/2020-Winter/105-Tamaris/105-22420~29-06-24_1-800x1100w.jpg'],\n",
       "      dtype=object)"
      ]
     },
     "execution_count": 33,
     "metadata": {},
     "output_type": "execute_result"
    }
   ],
   "source": [
    "mortoglou['images'].values"
   ]
  },
  {
   "cell_type": "code",
   "execution_count": 34,
   "metadata": {},
   "outputs": [
    {
     "data": {
      "text/html": [
       "<div>\n",
       "<style scoped>\n",
       "    .dataframe tbody tr th:only-of-type {\n",
       "        vertical-align: middle;\n",
       "    }\n",
       "\n",
       "    .dataframe tbody tr th {\n",
       "        vertical-align: top;\n",
       "    }\n",
       "\n",
       "    .dataframe thead th {\n",
       "        text-align: right;\n",
       "    }\n",
       "</style>\n",
       "<table border=\"1\" class=\"dataframe\">\n",
       "  <thead>\n",
       "    <tr style=\"text-align: right;\">\n",
       "      <th></th>\n",
       "      <th>scraping_time</th>\n",
       "      <th>website_id</th>\n",
       "      <th>main_website_url</th>\n",
       "      <th>product_link</th>\n",
       "      <th>product_title</th>\n",
       "      <th>old_price</th>\n",
       "      <th>new_price</th>\n",
       "      <th>price</th>\n",
       "      <th>brand</th>\n",
       "      <th>product_code</th>\n",
       "      <th>images</th>\n",
       "    </tr>\n",
       "  </thead>\n",
       "  <tbody>\n",
       "    <tr>\n",
       "      <th>341</th>\n",
       "      <td>2020-12-18 20:32:33.775027</td>\n",
       "      <td>252</td>\n",
       "      <td>https://www.mortoglou.gr/</td>\n",
       "      <td>https://www.mortoglou.gr/portofolia-a1bys-kafe-derma-timberland-el</td>\n",
       "      <td>Ανδρικά Πορτοφόλια A1BYS Καφέ Δέρμα Timberland</td>\n",
       "      <td>65.00</td>\n",
       "      <td>58.0</td>\n",
       "      <td>NaN</td>\n",
       "      <td>Timberland</td>\n",
       "      <td>A1BYS-Brown</td>\n",
       "      <td>https://www.mortoglou.gr/image/cache/products-new/images/2019-Winter/101-Timberland/101-A1BYS~15-01-22_1-800x1100w.jpg</td>\n",
       "    </tr>\n",
       "    <tr>\n",
       "      <th>589</th>\n",
       "      <td>2020-12-18 20:34:20.690665</td>\n",
       "      <td>252</td>\n",
       "      <td>https://www.mortoglou.gr/</td>\n",
       "      <td>https://www.mortoglou.gr/zones-a1dq8-kafe-derma-timberland-el</td>\n",
       "      <td>Ανδρικές Ζώνες A1DQ8 Καφέ Δέρμα Timberland</td>\n",
       "      <td>59.00</td>\n",
       "      <td>53.0</td>\n",
       "      <td>NaN</td>\n",
       "      <td>Timberland</td>\n",
       "      <td>A1DQ8-Brown</td>\n",
       "      <td>https://www.mortoglou.gr/image/cache/products-new/images/2019-Winter/101-Timberland/101-A1DQ8~15-01-22_1-800x1100w.jpg</td>\n",
       "    </tr>\n",
       "    <tr>\n",
       "      <th>626</th>\n",
       "      <td>2020-12-18 20:34:36.066926</td>\n",
       "      <td>252</td>\n",
       "      <td>https://www.mortoglou.gr/</td>\n",
       "      <td>https://www.mortoglou.gr/andrika-mokasinia-n6097-tampa-derma-boss-shoes-el</td>\n",
       "      <td>Ανδρικά Μοκασίνια N6097 Ταμπά Δέρμα Boss shoes</td>\n",
       "      <td>139.00</td>\n",
       "      <td>99.0</td>\n",
       "      <td>NaN</td>\n",
       "      <td>Boss shoes</td>\n",
       "      <td>N6097-Tabba</td>\n",
       "      <td>https://www.mortoglou.gr/image/cache/products-new/images/2020-Summer/111-Bossshoes/111-N6097~12-01-23_1-800x1100w.jpg</td>\n",
       "    </tr>\n",
       "    <tr>\n",
       "      <th>639</th>\n",
       "      <td>2020-12-18 20:34:40.065362</td>\n",
       "      <td>252</td>\n",
       "      <td>https://www.mortoglou.gr/</td>\n",
       "      <td>https://www.mortoglou.gr/andrika-pantelonia-a1nwv-mpez-vamvaki-timberland-el-2-5914</td>\n",
       "      <td>Ανδρικά Παντελόνια A1NWV Μπεζ Βαμβάκι Timberland</td>\n",
       "      <td>90.00</td>\n",
       "      <td>62.0</td>\n",
       "      <td>NaN</td>\n",
       "      <td>Timberland</td>\n",
       "      <td>A1NWV-Beige</td>\n",
       "      <td>https://www.mortoglou.gr/image/cache/products-new/images/2019-Winter/101-Timberland/101-A1NWV~18-04-22_1-800x1100h.jpg</td>\n",
       "    </tr>\n",
       "    <tr>\n",
       "      <th>644</th>\n",
       "      <td>2020-12-18 20:34:42.452389</td>\n",
       "      <td>252</td>\n",
       "      <td>https://www.mortoglou.gr/</td>\n",
       "      <td>https://www.mortoglou.gr/zones-b600-kafe-derma-mortoglou-el</td>\n",
       "      <td>Ανδρικές Ζώνες B600 Καφέ Δέρμα Mortoglou</td>\n",
       "      <td>35.00</td>\n",
       "      <td>29.0</td>\n",
       "      <td>NaN</td>\n",
       "      <td>Mortoglou</td>\n",
       "      <td>B600-Brown</td>\n",
       "      <td>https://www.mortoglou.gr/image/cache/products-new/images/2019-Summer/102-Mortoglou/102-B600~15-01-21_1-800x1100w.jpg</td>\n",
       "    </tr>\n",
       "    <tr>\n",
       "      <th>660</th>\n",
       "      <td>2020-12-18 20:34:48.471746</td>\n",
       "      <td>252</td>\n",
       "      <td>https://www.mortoglou.gr/</td>\n",
       "      <td>https://www.mortoglou.gr/andrikes-sagionares-pedila-arizona-bs-m-mauro-ecoleather-birkenstock-el</td>\n",
       "      <td>Ανδρικές Σαγιονάρες &amp; Πέδιλα Arizona.Bs.M Μαύρο ECOleather Birkenstock</td>\n",
       "      <td>75.00</td>\n",
       "      <td>63.0</td>\n",
       "      <td>NaN</td>\n",
       "      <td>Birkenstock</td>\n",
       "      <td>Arizona.Bs.M-Black</td>\n",
       "      <td>https://www.mortoglou.gr/image/cache/products-new/images/2019-Summer/123-Birkenstock/123-Arizona.Bs.M~11-06-21_1-800x1100w.jpg</td>\n",
       "    </tr>\n",
       "    <tr>\n",
       "      <th>663</th>\n",
       "      <td>2020-12-18 20:34:50.172217</td>\n",
       "      <td>252</td>\n",
       "      <td>https://www.mortoglou.gr/</td>\n",
       "      <td>https://www.mortoglou.gr/zones-387-12-tampa-derma-mortoglou-el-2-5178</td>\n",
       "      <td>Ανδρικές Ζώνες 387.12 Ταμπά Δέρμα Mortoglou</td>\n",
       "      <td>55.00</td>\n",
       "      <td>49.0</td>\n",
       "      <td>NaN</td>\n",
       "      <td>Mortoglou</td>\n",
       "      <td>387.12-Tabba</td>\n",
       "      <td>https://www.mortoglou.gr/image/cache/products-new/images/2019-Summer/102-Mortoglou/102-387.12~12-01-21_1-800x1100w.jpg</td>\n",
       "    </tr>\n",
       "    <tr>\n",
       "      <th>1593</th>\n",
       "      <td>2020-12-18 20:42:56.196350</td>\n",
       "      <td>252</td>\n",
       "      <td>https://www.mortoglou.gr/</td>\n",
       "      <td>https://www.mortoglou.gr/paidika-papoutsia-casual-evan-mple-ecosuede-u-s-polo-assn-el-2-12296</td>\n",
       "      <td>Παιδικά Παπούτσια Casual Evan Μπλε ECOsuede U.S. Polo Assn.</td>\n",
       "      <td>55.00</td>\n",
       "      <td>49.0</td>\n",
       "      <td>NaN</td>\n",
       "      <td>U.S. Polo Assn.</td>\n",
       "      <td>Evan-Blue</td>\n",
       "      <td>https://www.mortoglou.gr/image/cache/products-new/images/2020-Summer/110-US-Polo/110-Evan~13-09-23_1-800x1100w.jpg</td>\n",
       "    </tr>\n",
       "    <tr>\n",
       "      <th>2478</th>\n",
       "      <td>2020-12-18 20:48:24.670090</td>\n",
       "      <td>252</td>\n",
       "      <td>https://www.mortoglou.gr/</td>\n",
       "      <td>https://www.mortoglou.gr/gunaikeia-pedila-flat-1-tampa-derma-komis-and-komis-el</td>\n",
       "      <td>Γυναικεία Πέδιλα Flat 1 Ταμπά Δέρμα Komis and Komis</td>\n",
       "      <td>69.00</td>\n",
       "      <td>34.0</td>\n",
       "      <td>NaN</td>\n",
       "      <td>Komis and Komis</td>\n",
       "      <td>1-Tabba</td>\n",
       "      <td>https://www.mortoglou.gr/image/cache/products-new/images/2020-Summer/122-KomisandKomis/122-1~12-01-23_1-800x1100w.jpg</td>\n",
       "    </tr>\n",
       "    <tr>\n",
       "      <th>2486</th>\n",
       "      <td>2020-12-18 20:48:27.981735</td>\n",
       "      <td>252</td>\n",
       "      <td>https://www.mortoglou.gr/</td>\n",
       "      <td>https://www.mortoglou.gr/gunaikeies-sagionares-pedila-arizona-bs-asimi-ecoleather-birkenstock-el</td>\n",
       "      <td>Γυναικεία Πέδιλα Flat Arizona.BS Ασημί ECOleather Birkenstock</td>\n",
       "      <td>80.00</td>\n",
       "      <td>68.0</td>\n",
       "      <td>NaN</td>\n",
       "      <td>Birkenstock</td>\n",
       "      <td>Arizona.BS-Silver</td>\n",
       "      <td>https://www.mortoglou.gr/image/cache/products-new/images/2018-Summer/123-Birkenstock/123-Arizona.BS~26-06-19_1-800x1100w.jpg</td>\n",
       "    </tr>\n",
       "    <tr>\n",
       "      <th>2507</th>\n",
       "      <td>2020-12-18 20:48:34.940640</td>\n",
       "      <td>252</td>\n",
       "      <td>https://www.mortoglou.gr/</td>\n",
       "      <td>https://www.mortoglou.gr/gunaikeia-pedila-flat-mayari-kafe-derma-noumpouk-birkenstock-el</td>\n",
       "      <td>Γυναικεία Πέδιλα Flat Mayari Καφέ Δέρμα Νούμπουκ Birkenstock</td>\n",
       "      <td>80.00</td>\n",
       "      <td>68.0</td>\n",
       "      <td>NaN</td>\n",
       "      <td>Birkenstock</td>\n",
       "      <td>Mayari-Brown</td>\n",
       "      <td>https://www.mortoglou.gr/image/cache/products-new/images/2020-Summer/123-Birkenstock/123-Mayari~15-10-23_1-800x1100w.jpg</td>\n",
       "    </tr>\n",
       "    <tr>\n",
       "      <th>2564</th>\n",
       "      <td>2020-12-18 20:48:55.631127</td>\n",
       "      <td>252</td>\n",
       "      <td>https://www.mortoglou.gr/</td>\n",
       "      <td>https://www.mortoglou.gr/tsantes-urano-mauro-ecoleather-sixtyseven-el</td>\n",
       "      <td>Γυναικείες Τσάντες Urano Μαύρο ECOleather Sixtyseven</td>\n",
       "      <td>79.00</td>\n",
       "      <td>49.0</td>\n",
       "      <td>NaN</td>\n",
       "      <td>Sixtyseven</td>\n",
       "      <td>Urano-Black</td>\n",
       "      <td>https://www.mortoglou.gr/image/cache/products-new/images/2019-Winter/359-SixtySeven/359-Urano~11-06-22_1-800x1100w.jpg</td>\n",
       "    </tr>\n",
       "    <tr>\n",
       "      <th>2574</th>\n",
       "      <td>2020-12-18 20:48:58.608880</td>\n",
       "      <td>252</td>\n",
       "      <td>https://www.mortoglou.gr/</td>\n",
       "      <td>https://www.mortoglou.gr/gunaikeia-pedila-flat-j02766-pouro-derma-ladero-merrell-el</td>\n",
       "      <td>Γυναικεία Πέδιλα Flat J02766 Πούρο Δέρμα Λαδερό Merrell</td>\n",
       "      <td>72.00</td>\n",
       "      <td>36.0</td>\n",
       "      <td>NaN</td>\n",
       "      <td>Merrell</td>\n",
       "      <td>J02766-Taupe</td>\n",
       "      <td>https://www.mortoglou.gr/image/cache/products-new/images/2020-Summer/166-Merrell/166-J02766~20-05-23_1-800x1100w.jpg</td>\n",
       "    </tr>\n",
       "    <tr>\n",
       "      <th>2752</th>\n",
       "      <td>2020-12-18 20:50:07.843198</td>\n",
       "      <td>252</td>\n",
       "      <td>https://www.mortoglou.gr/</td>\n",
       "      <td>https://www.mortoglou.gr/gunaikeia-mpotakia-15-230-mauro-derma-makis-kotris-el-2-11936</td>\n",
       "      <td>Γυναικεία Μποτάκια 15.230 Μαύρο Δέρμα Makis Kotris</td>\n",
       "      <td>130.00</td>\n",
       "      <td>104.0</td>\n",
       "      <td>NaN</td>\n",
       "      <td>Makis Kotris</td>\n",
       "      <td>15.230-Black</td>\n",
       "      <td>https://www.mortoglou.gr/image/cache/products-new/images/2020-Winter/219-MakisKotris/219-15.230~11-01-24_1-800x1100w.jpg</td>\n",
       "    </tr>\n",
       "    <tr>\n",
       "      <th>2784</th>\n",
       "      <td>2020-12-18 20:50:20.010456</td>\n",
       "      <td>252</td>\n",
       "      <td>https://www.mortoglou.gr/</td>\n",
       "      <td>https://www.mortoglou.gr/gunaikeies-goves-peeptoes-psiles-s90-fw20-mauro-derma-mortoglou-el</td>\n",
       "      <td>Γυναικείες Γόβες &amp; Peeptoes Ψηλές S90.FW20 Μαύρο Δέρμα Mortoglou</td>\n",
       "      <td>119.00</td>\n",
       "      <td>59.0</td>\n",
       "      <td>NaN</td>\n",
       "      <td>Mortoglou</td>\n",
       "      <td>S90.FW20-Black</td>\n",
       "      <td>https://www.mortoglou.gr/image/cache/products-new/images/2019-Winter/102-Mortoglou/102-S90.FW20~11-01-22_1-800x1100w.jpg</td>\n",
       "    </tr>\n",
       "    <tr>\n",
       "      <th>2800</th>\n",
       "      <td>2020-12-18 20:50:24.469811</td>\n",
       "      <td>252</td>\n",
       "      <td>https://www.mortoglou.gr/</td>\n",
       "      <td>https://www.mortoglou.gr/gunaikeia-mpotakia-24414-mauro-derma-tamaris-el</td>\n",
       "      <td>Γυναικεία Μποτάκια 24414 Μαύρο Δέρμα Tamaris</td>\n",
       "      <td>79.95</td>\n",
       "      <td>63.0</td>\n",
       "      <td>NaN</td>\n",
       "      <td>Tamaris</td>\n",
       "      <td>24414-Black</td>\n",
       "      <td>https://www.mortoglou.gr/image/cache/products-new/images/2020-Winter/105-Tamaris/105-24414~11-06-24_1-800x1100w.jpg</td>\n",
       "    </tr>\n",
       "    <tr>\n",
       "      <th>3007</th>\n",
       "      <td>2020-12-18 20:51:27.133666</td>\n",
       "      <td>252</td>\n",
       "      <td>https://www.mortoglou.gr/</td>\n",
       "      <td>https://www.mortoglou.gr/gunaikeia-mokasinia-24655-mauro-derma-24hrs-el</td>\n",
       "      <td>Γυναικεία Μοκασίνια 24655 Μαύρο Δέρμα 24HRS</td>\n",
       "      <td>119.00</td>\n",
       "      <td>95.0</td>\n",
       "      <td>NaN</td>\n",
       "      <td>24HRS</td>\n",
       "      <td>24655-Black</td>\n",
       "      <td>https://www.mortoglou.gr/image/cache/products-new/images/2020-Winter/125-24HRS/125-24655~11-01-24_1-800x1100w.jpg</td>\n",
       "    </tr>\n",
       "    <tr>\n",
       "      <th>3100</th>\n",
       "      <td>2020-12-18 20:52:00.436553</td>\n",
       "      <td>252</td>\n",
       "      <td>https://www.mortoglou.gr/</td>\n",
       "      <td>https://www.mortoglou.gr/gunaikeia-foremata-olosomes-formes-drew-multi-vamvaki-pepe-jeans-el</td>\n",
       "      <td>Γυναικεία Φορέματα - Ολόσωμες Φόρμες Drew Multi Βαμβάκι Pepe Jeans</td>\n",
       "      <td>84.00</td>\n",
       "      <td>58.0</td>\n",
       "      <td>NaN</td>\n",
       "      <td>Pepe Jeans</td>\n",
       "      <td>Drew-Multi</td>\n",
       "      <td>https://www.mortoglou.gr/image/cache/products-new/images/2020-Winter/107-PepeJeans/107-Drew~43-04-24_1-800x1100w.jpg</td>\n",
       "    </tr>\n",
       "    <tr>\n",
       "      <th>3165</th>\n",
       "      <td>2020-12-18 20:52:20.060307</td>\n",
       "      <td>252</td>\n",
       "      <td>https://www.mortoglou.gr/</td>\n",
       "      <td>https://www.mortoglou.gr/gunaikeies-mplouzes-top-fabia-mauro-lino-pepe-jeans-el</td>\n",
       "      <td>Γυναικείες Μπλούζες - Τοπ Fabia Μαύρο Λινό Pepe Jeans</td>\n",
       "      <td>48.00</td>\n",
       "      <td>33.0</td>\n",
       "      <td>NaN</td>\n",
       "      <td>Pepe Jeans</td>\n",
       "      <td>Fabia-Black</td>\n",
       "      <td>https://www.mortoglou.gr/image/cache/products-new/images/2020-Winter/107-PepeJeans/107-Fabia~11-22-24_1-800x1100w.jpg</td>\n",
       "    </tr>\n",
       "    <tr>\n",
       "      <th>3225</th>\n",
       "      <td>2020-12-18 20:52:38.413909</td>\n",
       "      <td>252</td>\n",
       "      <td>https://www.mortoglou.gr/</td>\n",
       "      <td>https://www.mortoglou.gr/gunaikeies-foustes-sorts-paloma-mauro-ecoleather-guess-el</td>\n",
       "      <td>Γυναικείες Φούστες - Σορτς Paloma Μαύρο ECOleather Guess</td>\n",
       "      <td>99.90</td>\n",
       "      <td>79.0</td>\n",
       "      <td>NaN</td>\n",
       "      <td>Guess</td>\n",
       "      <td>Paloma-Black</td>\n",
       "      <td>https://www.mortoglou.gr/image/cache/products-new/images/2020-Winter/231-Guess/231-Paloma~11-06-24_1-800x1100w.jpg</td>\n",
       "    </tr>\n",
       "    <tr>\n",
       "      <th>3334</th>\n",
       "      <td>2020-12-18 20:53:09.749497</td>\n",
       "      <td>252</td>\n",
       "      <td>https://www.mortoglou.gr/</td>\n",
       "      <td>https://www.mortoglou.gr/gunaikeia-mpotakia-4236-tampa-derma-alpe-el</td>\n",
       "      <td>Γυναικεία Μποτάκια 4236 Ταμπά Δέρμα Alpe</td>\n",
       "      <td>95.00</td>\n",
       "      <td>76.0</td>\n",
       "      <td>NaN</td>\n",
       "      <td>Alpe</td>\n",
       "      <td>4236-Tabba</td>\n",
       "      <td>https://www.mortoglou.gr/image/cache/products-new/images/2020-Winter/115-Alpe/115-4236~12-01-24_1-800x1100w.jpg</td>\n",
       "    </tr>\n",
       "    <tr>\n",
       "      <th>3413</th>\n",
       "      <td>2020-12-18 20:53:35.328503</td>\n",
       "      <td>252</td>\n",
       "      <td>https://www.mortoglou.gr/</td>\n",
       "      <td>https://www.mortoglou.gr/gunaikeia-mpotakia-4-mauro-derma-kastori-mortoglou-el</td>\n",
       "      <td>Γυναικεία Μποτάκια 4 Μαύρο Δέρμα Καστόρι Mortoglou</td>\n",
       "      <td>89.00</td>\n",
       "      <td>44.0</td>\n",
       "      <td>NaN</td>\n",
       "      <td>Mortoglou</td>\n",
       "      <td>4-Black</td>\n",
       "      <td>https://www.mortoglou.gr/image/cache/products-new/images/2019-Winter/102-Mortoglou/102-4~11-02-22_1-800x1100w.jpg</td>\n",
       "    </tr>\n",
       "  </tbody>\n",
       "</table>\n",
       "</div>"
      ],
      "text/plain": [
       "                  scraping_time  website_id           main_website_url  \\\n",
       "341  2020-12-18 20:32:33.775027  252         https://www.mortoglou.gr/   \n",
       "589  2020-12-18 20:34:20.690665  252         https://www.mortoglou.gr/   \n",
       "626  2020-12-18 20:34:36.066926  252         https://www.mortoglou.gr/   \n",
       "639  2020-12-18 20:34:40.065362  252         https://www.mortoglou.gr/   \n",
       "644  2020-12-18 20:34:42.452389  252         https://www.mortoglou.gr/   \n",
       "660  2020-12-18 20:34:48.471746  252         https://www.mortoglou.gr/   \n",
       "663  2020-12-18 20:34:50.172217  252         https://www.mortoglou.gr/   \n",
       "1593 2020-12-18 20:42:56.196350  252         https://www.mortoglou.gr/   \n",
       "2478 2020-12-18 20:48:24.670090  252         https://www.mortoglou.gr/   \n",
       "2486 2020-12-18 20:48:27.981735  252         https://www.mortoglou.gr/   \n",
       "2507 2020-12-18 20:48:34.940640  252         https://www.mortoglou.gr/   \n",
       "2564 2020-12-18 20:48:55.631127  252         https://www.mortoglou.gr/   \n",
       "2574 2020-12-18 20:48:58.608880  252         https://www.mortoglou.gr/   \n",
       "2752 2020-12-18 20:50:07.843198  252         https://www.mortoglou.gr/   \n",
       "2784 2020-12-18 20:50:20.010456  252         https://www.mortoglou.gr/   \n",
       "2800 2020-12-18 20:50:24.469811  252         https://www.mortoglou.gr/   \n",
       "3007 2020-12-18 20:51:27.133666  252         https://www.mortoglou.gr/   \n",
       "3100 2020-12-18 20:52:00.436553  252         https://www.mortoglou.gr/   \n",
       "3165 2020-12-18 20:52:20.060307  252         https://www.mortoglou.gr/   \n",
       "3225 2020-12-18 20:52:38.413909  252         https://www.mortoglou.gr/   \n",
       "3334 2020-12-18 20:53:09.749497  252         https://www.mortoglou.gr/   \n",
       "3413 2020-12-18 20:53:35.328503  252         https://www.mortoglou.gr/   \n",
       "\n",
       "                                                                                          product_link  \\\n",
       "341   https://www.mortoglou.gr/portofolia-a1bys-kafe-derma-timberland-el                                 \n",
       "589   https://www.mortoglou.gr/zones-a1dq8-kafe-derma-timberland-el                                      \n",
       "626   https://www.mortoglou.gr/andrika-mokasinia-n6097-tampa-derma-boss-shoes-el                         \n",
       "639   https://www.mortoglou.gr/andrika-pantelonia-a1nwv-mpez-vamvaki-timberland-el-2-5914                \n",
       "644   https://www.mortoglou.gr/zones-b600-kafe-derma-mortoglou-el                                        \n",
       "660   https://www.mortoglou.gr/andrikes-sagionares-pedila-arizona-bs-m-mauro-ecoleather-birkenstock-el   \n",
       "663   https://www.mortoglou.gr/zones-387-12-tampa-derma-mortoglou-el-2-5178                              \n",
       "1593  https://www.mortoglou.gr/paidika-papoutsia-casual-evan-mple-ecosuede-u-s-polo-assn-el-2-12296      \n",
       "2478  https://www.mortoglou.gr/gunaikeia-pedila-flat-1-tampa-derma-komis-and-komis-el                    \n",
       "2486  https://www.mortoglou.gr/gunaikeies-sagionares-pedila-arizona-bs-asimi-ecoleather-birkenstock-el   \n",
       "2507  https://www.mortoglou.gr/gunaikeia-pedila-flat-mayari-kafe-derma-noumpouk-birkenstock-el           \n",
       "2564  https://www.mortoglou.gr/tsantes-urano-mauro-ecoleather-sixtyseven-el                              \n",
       "2574  https://www.mortoglou.gr/gunaikeia-pedila-flat-j02766-pouro-derma-ladero-merrell-el                \n",
       "2752  https://www.mortoglou.gr/gunaikeia-mpotakia-15-230-mauro-derma-makis-kotris-el-2-11936             \n",
       "2784  https://www.mortoglou.gr/gunaikeies-goves-peeptoes-psiles-s90-fw20-mauro-derma-mortoglou-el        \n",
       "2800  https://www.mortoglou.gr/gunaikeia-mpotakia-24414-mauro-derma-tamaris-el                           \n",
       "3007  https://www.mortoglou.gr/gunaikeia-mokasinia-24655-mauro-derma-24hrs-el                            \n",
       "3100  https://www.mortoglou.gr/gunaikeia-foremata-olosomes-formes-drew-multi-vamvaki-pepe-jeans-el       \n",
       "3165  https://www.mortoglou.gr/gunaikeies-mplouzes-top-fabia-mauro-lino-pepe-jeans-el                    \n",
       "3225  https://www.mortoglou.gr/gunaikeies-foustes-sorts-paloma-mauro-ecoleather-guess-el                 \n",
       "3334  https://www.mortoglou.gr/gunaikeia-mpotakia-4236-tampa-derma-alpe-el                               \n",
       "3413  https://www.mortoglou.gr/gunaikeia-mpotakia-4-mauro-derma-kastori-mortoglou-el                     \n",
       "\n",
       "                                                               product_title  \\\n",
       "341   Ανδρικά Πορτοφόλια A1BYS Καφέ Δέρμα Timberland                           \n",
       "589   Ανδρικές Ζώνες A1DQ8 Καφέ Δέρμα Timberland                               \n",
       "626   Ανδρικά Μοκασίνια N6097 Ταμπά Δέρμα Boss shoes                           \n",
       "639   Ανδρικά Παντελόνια A1NWV Μπεζ Βαμβάκι Timberland                         \n",
       "644   Ανδρικές Ζώνες B600 Καφέ Δέρμα Mortoglou                                 \n",
       "660   Ανδρικές Σαγιονάρες & Πέδιλα Arizona.Bs.M Μαύρο ECOleather Birkenstock   \n",
       "663   Ανδρικές Ζώνες 387.12 Ταμπά Δέρμα Mortoglou                              \n",
       "1593  Παιδικά Παπούτσια Casual Evan Μπλε ECOsuede U.S. Polo Assn.              \n",
       "2478  Γυναικεία Πέδιλα Flat 1 Ταμπά Δέρμα Komis and Komis                      \n",
       "2486  Γυναικεία Πέδιλα Flat Arizona.BS Ασημί ECOleather Birkenstock            \n",
       "2507  Γυναικεία Πέδιλα Flat Mayari Καφέ Δέρμα Νούμπουκ Birkenstock             \n",
       "2564  Γυναικείες Τσάντες Urano Μαύρο ECOleather Sixtyseven                     \n",
       "2574  Γυναικεία Πέδιλα Flat J02766 Πούρο Δέρμα Λαδερό Merrell                  \n",
       "2752  Γυναικεία Μποτάκια 15.230 Μαύρο Δέρμα Makis Kotris                       \n",
       "2784  Γυναικείες Γόβες & Peeptoes Ψηλές S90.FW20 Μαύρο Δέρμα Mortoglou         \n",
       "2800  Γυναικεία Μποτάκια 24414 Μαύρο Δέρμα Tamaris                             \n",
       "3007  Γυναικεία Μοκασίνια 24655 Μαύρο Δέρμα 24HRS                              \n",
       "3100  Γυναικεία Φορέματα - Ολόσωμες Φόρμες Drew Multi Βαμβάκι Pepe Jeans       \n",
       "3165  Γυναικείες Μπλούζες - Τοπ Fabia Μαύρο Λινό Pepe Jeans                    \n",
       "3225  Γυναικείες Φούστες - Σορτς Paloma Μαύρο ECOleather Guess                 \n",
       "3334  Γυναικεία Μποτάκια 4236 Ταμπά Δέρμα Alpe                                 \n",
       "3413  Γυναικεία Μποτάκια 4 Μαύρο Δέρμα Καστόρι Mortoglou                       \n",
       "\n",
       "      old_price  new_price  price            brand        product_code  \\\n",
       "341   65.00      58.0      NaN     Timberland       A1BYS-Brown          \n",
       "589   59.00      53.0      NaN     Timberland       A1DQ8-Brown          \n",
       "626   139.00     99.0      NaN     Boss shoes       N6097-Tabba          \n",
       "639   90.00      62.0      NaN     Timberland       A1NWV-Beige          \n",
       "644   35.00      29.0      NaN     Mortoglou        B600-Brown           \n",
       "660   75.00      63.0      NaN     Birkenstock      Arizona.Bs.M-Black   \n",
       "663   55.00      49.0      NaN     Mortoglou        387.12-Tabba         \n",
       "1593  55.00      49.0      NaN     U.S. Polo Assn.  Evan-Blue            \n",
       "2478  69.00      34.0      NaN     Komis and Komis  1-Tabba              \n",
       "2486  80.00      68.0      NaN     Birkenstock      Arizona.BS-Silver    \n",
       "2507  80.00      68.0      NaN     Birkenstock      Mayari-Brown         \n",
       "2564  79.00      49.0      NaN     Sixtyseven       Urano-Black          \n",
       "2574  72.00      36.0      NaN     Merrell          J02766-Taupe         \n",
       "2752  130.00     104.0     NaN     Makis Kotris     15.230-Black         \n",
       "2784  119.00     59.0      NaN     Mortoglou        S90.FW20-Black       \n",
       "2800  79.95      63.0      NaN     Tamaris          24414-Black          \n",
       "3007  119.00     95.0      NaN     24HRS            24655-Black          \n",
       "3100  84.00      58.0      NaN     Pepe Jeans       Drew-Multi           \n",
       "3165  48.00      33.0      NaN     Pepe Jeans       Fabia-Black          \n",
       "3225  99.90      79.0      NaN     Guess            Paloma-Black         \n",
       "3334  95.00      76.0      NaN     Alpe             4236-Tabba           \n",
       "3413  89.00      44.0      NaN     Mortoglou        4-Black              \n",
       "\n",
       "                                                                                                                              images  \n",
       "341   https://www.mortoglou.gr/image/cache/products-new/images/2019-Winter/101-Timberland/101-A1BYS~15-01-22_1-800x1100w.jpg          \n",
       "589   https://www.mortoglou.gr/image/cache/products-new/images/2019-Winter/101-Timberland/101-A1DQ8~15-01-22_1-800x1100w.jpg          \n",
       "626   https://www.mortoglou.gr/image/cache/products-new/images/2020-Summer/111-Bossshoes/111-N6097~12-01-23_1-800x1100w.jpg           \n",
       "639   https://www.mortoglou.gr/image/cache/products-new/images/2019-Winter/101-Timberland/101-A1NWV~18-04-22_1-800x1100h.jpg          \n",
       "644   https://www.mortoglou.gr/image/cache/products-new/images/2019-Summer/102-Mortoglou/102-B600~15-01-21_1-800x1100w.jpg            \n",
       "660   https://www.mortoglou.gr/image/cache/products-new/images/2019-Summer/123-Birkenstock/123-Arizona.Bs.M~11-06-21_1-800x1100w.jpg  \n",
       "663   https://www.mortoglou.gr/image/cache/products-new/images/2019-Summer/102-Mortoglou/102-387.12~12-01-21_1-800x1100w.jpg          \n",
       "1593  https://www.mortoglou.gr/image/cache/products-new/images/2020-Summer/110-US-Polo/110-Evan~13-09-23_1-800x1100w.jpg              \n",
       "2478  https://www.mortoglou.gr/image/cache/products-new/images/2020-Summer/122-KomisandKomis/122-1~12-01-23_1-800x1100w.jpg           \n",
       "2486  https://www.mortoglou.gr/image/cache/products-new/images/2018-Summer/123-Birkenstock/123-Arizona.BS~26-06-19_1-800x1100w.jpg    \n",
       "2507  https://www.mortoglou.gr/image/cache/products-new/images/2020-Summer/123-Birkenstock/123-Mayari~15-10-23_1-800x1100w.jpg        \n",
       "2564  https://www.mortoglou.gr/image/cache/products-new/images/2019-Winter/359-SixtySeven/359-Urano~11-06-22_1-800x1100w.jpg          \n",
       "2574  https://www.mortoglou.gr/image/cache/products-new/images/2020-Summer/166-Merrell/166-J02766~20-05-23_1-800x1100w.jpg            \n",
       "2752  https://www.mortoglou.gr/image/cache/products-new/images/2020-Winter/219-MakisKotris/219-15.230~11-01-24_1-800x1100w.jpg        \n",
       "2784  https://www.mortoglou.gr/image/cache/products-new/images/2019-Winter/102-Mortoglou/102-S90.FW20~11-01-22_1-800x1100w.jpg        \n",
       "2800  https://www.mortoglou.gr/image/cache/products-new/images/2020-Winter/105-Tamaris/105-24414~11-06-24_1-800x1100w.jpg             \n",
       "3007  https://www.mortoglou.gr/image/cache/products-new/images/2020-Winter/125-24HRS/125-24655~11-01-24_1-800x1100w.jpg               \n",
       "3100  https://www.mortoglou.gr/image/cache/products-new/images/2020-Winter/107-PepeJeans/107-Drew~43-04-24_1-800x1100w.jpg            \n",
       "3165  https://www.mortoglou.gr/image/cache/products-new/images/2020-Winter/107-PepeJeans/107-Fabia~11-22-24_1-800x1100w.jpg           \n",
       "3225  https://www.mortoglou.gr/image/cache/products-new/images/2020-Winter/231-Guess/231-Paloma~11-06-24_1-800x1100w.jpg              \n",
       "3334  https://www.mortoglou.gr/image/cache/products-new/images/2020-Winter/115-Alpe/115-4236~12-01-24_1-800x1100w.jpg                 \n",
       "3413  https://www.mortoglou.gr/image/cache/products-new/images/2019-Winter/102-Mortoglou/102-4~11-02-22_1-800x1100w.jpg               "
      ]
     },
     "execution_count": 34,
     "metadata": {},
     "output_type": "execute_result"
    }
   ],
   "source": [
    "mortoglou[mortoglou['product_code'].duplicated()]"
   ]
  },
  {
   "cell_type": "code",
   "execution_count": 35,
   "metadata": {},
   "outputs": [],
   "source": [
    "mortoglou.to_csv('mortoglou_mod.csv', index=False)"
   ]
  },
  {
   "cell_type": "markdown",
   "metadata": {},
   "source": [
    "## Giannakazakou"
   ]
  },
  {
   "cell_type": "code",
   "execution_count": 20,
   "metadata": {},
   "outputs": [
    {
     "name": "stdout",
     "output_type": "stream",
     "text": [
      "<class 'pandas.core.frame.DataFrame'>\n",
      "RangeIndex: 4388 entries, 0 to 4387\n",
      "Data columns (total 11 columns):\n",
      " #   Column            Non-Null Count  Dtype \n",
      "---  ------            --------------  ----- \n",
      " 0   scraping_time     4388 non-null   object\n",
      " 1   website_id        4388 non-null   int64 \n",
      " 2   main_website_url  4388 non-null   object\n",
      " 3   product_link      4388 non-null   object\n",
      " 4   product_title     4388 non-null   object\n",
      " 5   old_price         3472 non-null   object\n",
      " 6   new_price         3472 non-null   object\n",
      " 7   price             916 non-null    object\n",
      " 8   brand             4388 non-null   object\n",
      " 9   product_code      4388 non-null   object\n",
      " 10  images            4388 non-null   object\n",
      "dtypes: int64(1), object(10)\n",
      "memory usage: 377.2+ KB\n"
     ]
    }
   ],
   "source": [
    "giannakazakou = pd.read_csv('giannakazakou.csv')\n",
    "giannakazakou.info()"
   ]
  },
  {
   "cell_type": "code",
   "execution_count": 21,
   "metadata": {},
   "outputs": [
    {
     "name": "stdout",
     "output_type": "stream",
     "text": [
      "<class 'pandas.core.frame.DataFrame'>\n",
      "RangeIndex: 4388 entries, 0 to 4387\n",
      "Data columns (total 11 columns):\n",
      " #   Column            Non-Null Count  Dtype         \n",
      "---  ------            --------------  -----         \n",
      " 0   scraping_time     4388 non-null   datetime64[ns]\n",
      " 1   website_id        4388 non-null   int64         \n",
      " 2   main_website_url  4388 non-null   object        \n",
      " 3   product_link      4388 non-null   object        \n",
      " 4   product_title     4388 non-null   object        \n",
      " 5   old_price         3472 non-null   object        \n",
      " 6   new_price         3472 non-null   object        \n",
      " 7   price             916 non-null    object        \n",
      " 8   brand             4388 non-null   object        \n",
      " 9   product_code      4388 non-null   object        \n",
      " 10  images            4388 non-null   object        \n",
      "dtypes: datetime64[ns](1), int64(1), object(9)\n",
      "memory usage: 377.2+ KB\n"
     ]
    }
   ],
   "source": [
    "giannakazakou['scraping_time'] = pd.to_datetime(giannakazakou['scraping_time'])\n",
    "giannakazakou.info()"
   ]
  },
  {
   "cell_type": "code",
   "execution_count": 22,
   "metadata": {},
   "outputs": [
    {
     "data": {
      "text/plain": [
       "79.00    281\n",
       "89.00    280\n",
       "99.00    245\n",
       "59.00    224\n",
       "69.00    197\n",
       "        ... \n",
       "47.99    1  \n",
       "74.95    1  \n",
       "56.95    1  \n",
       "18.90    1  \n",
       "17.90    1  \n",
       "Name: old_price, Length: 161, dtype: int64"
      ]
     },
     "execution_count": 22,
     "metadata": {},
     "output_type": "execute_result"
    }
   ],
   "source": [
    "try:\n",
    "    giannakazakou['old_price'] = giannakazakou['old_price'].str.replace(u'€', '') \n",
    "    giannakazakou['old_price'] = giannakazakou['old_price'].str.replace(',', '.')\n",
    "    giannakazakou['old_price'] = giannakazakou['old_price'].astype(float)\n",
    "except AttributeError:\n",
    "    pass\n",
    "\n",
    "giannakazakou['old_price'].value_counts()"
   ]
  },
  {
   "cell_type": "code",
   "execution_count": 23,
   "metadata": {},
   "outputs": [
    {
     "data": {
      "text/plain": [
       "35.0    281\n",
       "49.0    245\n",
       "55.0    236\n",
       "45.0    221\n",
       "59.0    180\n",
       "       ... \n",
       "19.9    1  \n",
       "41.9    1  \n",
       "22.9    1  \n",
       "64.0    1  \n",
       "66.0    1  \n",
       "Name: new_price, Length: 100, dtype: int64"
      ]
     },
     "execution_count": 23,
     "metadata": {},
     "output_type": "execute_result"
    }
   ],
   "source": [
    "try:\n",
    "    giannakazakou['new_price'] = giannakazakou['new_price'].str.replace(u'€', '') \n",
    "    giannakazakou['new_price'] = giannakazakou['new_price'].str.replace(',', '.')\n",
    "    giannakazakou['new_price'] = giannakazakou['new_price'].astype(float)\n",
    "except:\n",
    "    pass\n",
    "\n",
    "giannakazakou['new_price'].value_counts()"
   ]
  },
  {
   "cell_type": "code",
   "execution_count": 24,
   "metadata": {},
   "outputs": [
    {
     "data": {
      "text/plain": [
       "89.00     58\n",
       "99.00     47\n",
       "59.00     42\n",
       "69.00     34\n",
       "109.00    32\n",
       "          ..\n",
       "269.00    1 \n",
       "185.00    1 \n",
       "2.99      1 \n",
       "8.40      1 \n",
       "127.00    1 \n",
       "Name: price, Length: 142, dtype: int64"
      ]
     },
     "execution_count": 24,
     "metadata": {},
     "output_type": "execute_result"
    }
   ],
   "source": [
    "try:\n",
    "    giannakazakou['price'] = giannakazakou['price'].str.replace(u'€', '') \n",
    "    giannakazakou['price'] = giannakazakou['price'].str.replace(',', '.')\n",
    "    giannakazakou['price'] = giannakazakou['price'].astype(float)\n",
    "except:\n",
    "    pass\n",
    "\n",
    "giannakazakou['price'].value_counts()"
   ]
  },
  {
   "cell_type": "code",
   "execution_count": 25,
   "metadata": {},
   "outputs": [
    {
     "name": "stdout",
     "output_type": "stream",
     "text": [
      "<class 'pandas.core.frame.DataFrame'>\n",
      "RangeIndex: 4388 entries, 0 to 4387\n",
      "Data columns (total 11 columns):\n",
      " #   Column            Non-Null Count  Dtype         \n",
      "---  ------            --------------  -----         \n",
      " 0   scraping_time     4388 non-null   datetime64[ns]\n",
      " 1   website_id        4388 non-null   int64         \n",
      " 2   main_website_url  4388 non-null   object        \n",
      " 3   product_link      4388 non-null   object        \n",
      " 4   product_title     4388 non-null   object        \n",
      " 5   old_price         3472 non-null   float64       \n",
      " 6   new_price         3472 non-null   float64       \n",
      " 7   price             916 non-null    float64       \n",
      " 8   brand             4388 non-null   object        \n",
      " 9   product_code      4388 non-null   object        \n",
      " 10  images            4388 non-null   object        \n",
      "dtypes: datetime64[ns](1), float64(3), int64(1), object(6)\n",
      "memory usage: 377.2+ KB\n"
     ]
    }
   ],
   "source": [
    "giannakazakou.info()"
   ]
  },
  {
   "cell_type": "code",
   "execution_count": 26,
   "metadata": {},
   "outputs": [],
   "source": [
    "giannakazakou.to_csv('giannakazakou_mod.csv', index=False)"
   ]
  },
  {
   "cell_type": "code",
   "execution_count": null,
   "metadata": {},
   "outputs": [],
   "source": []
  }
 ],
 "metadata": {
  "kernelspec": {
   "display_name": "Python 3",
   "language": "python",
   "name": "python3"
  },
  "language_info": {
   "codemirror_mode": {
    "name": "ipython",
    "version": 3
   },
   "file_extension": ".py",
   "mimetype": "text/x-python",
   "name": "python",
   "nbconvert_exporter": "python",
   "pygments_lexer": "ipython3",
   "version": "3.7.7"
  }
 },
 "nbformat": 4,
 "nbformat_minor": 4
}
